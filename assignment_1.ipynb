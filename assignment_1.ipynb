{
 "cells": [
  {
   "cell_type": "markdown",
   "id": "d07328d6",
   "metadata": {},
   "source": [
    "#            Assignment 1"
   ]
  },
  {
   "cell_type": "markdown",
   "id": "219a14c2",
   "metadata": {},
   "source": [
    "Q 1 - in the below element which of them values or an expression? eg:- values can be integer or string and expessions will be mathematical operators.\n",
    "  *\n",
    "  'hello'\n",
    "  -87.8\n",
    "  -\n",
    "  /\n",
    "  +\n",
    "  6\n",
    "  \n",
    " ANS:\n",
    "   \n",
    "   VALUES ARE :- 'hello', -87.8, 6\n",
    "   expression :- * , - , / , + "
   ]
  },
  {
   "cell_type": "markdown",
   "id": "9fa758cf",
   "metadata": {},
   "source": [
    "Q 2- What is the diffrence beteen string and variable ?\n",
    "ANS:- \n",
    "   string :- str = \"my name is xyz, 24454 'are you happy' \"\n",
    "     = string is a immutable data type in python in which we can store a data by any variable name and data is enclosed by (single or double) quotes (as in above example).\n",
    "     \n",
    "     in short we can say that sting is a \"value representing text\" and it is a type of variable \n",
    "   \n",
    "   variable :- a = 10\n",
    "               b = 'this is ten number'\n",
    "       = in above example we can say that a variable is a name or contener or identifier that can store the value in amemory location. in form of quote(double or single) or any other data type \n",
    "          like string data type is also store in a variable name it couid be anything. "
   ]
  },
  {
   "cell_type": "code",
   "execution_count": 2,
   "id": "b81babf9",
   "metadata": {},
   "outputs": [
    {
     "name": "stdout",
     "output_type": "stream",
     "text": [
      "my name is xyz, 24454 'are you happy'  <class 'str'>\n"
     ]
    }
   ],
   "source": [
    "str = \"my name is xyz, 24454 'are you happy' \"\n",
    "print(str, type(str))    "
   ]
  },
  {
   "cell_type": "code",
   "execution_count": 7,
   "id": "b8740a30",
   "metadata": {},
   "outputs": [
    {
     "name": "stdout",
     "output_type": "stream",
     "text": [
      "10 this is ten number\n"
     ]
    }
   ],
   "source": [
    "a = 10\n",
    "b = 'this is ten number'\n",
    "print(a ,b)"
   ]
  },
  {
   "cell_type": "markdown",
   "id": "0f7229be",
   "metadata": {},
   "source": [
    "Q 3 - Describe three diferent data types ?\n",
    "ANS:- \n",
    " Three data types in python\n",
    " 1 string = - strings are sequence of charecter data that represent the values and it is a immutable data type in python. \n",
    "            - String literals may be delimited using either single or double quotes. \" \" or ' ' \n",
    "            ex - string = \"you must hapyy, 10, 'times' @,$# :- \" \n",
    "            - it contains data alfanumeric and special charecter also \n",
    "            \n",
    "  2 list =  - we represent list as - [] in square bracket in which we can store multiple data in a single variable ex:- lst = [\"my name\" ,\"xfda\", 12, 2, [1,24, 242,2],(24, 55,24,), \"@name\"]\n",
    "           - list is a mutable data type in python.\n",
    "   \n",
    "   3 Numeric data types - in python there are many numeric data types like (int, float, complex)\n",
    "   int = it contain only integer value in a variable.\n",
    "   ex : a = 10\n",
    "        b = 20\n",
    "  \n",
    "  "
   ]
  },
  {
   "cell_type": "code",
   "execution_count": 15,
   "id": "3d102e88",
   "metadata": {},
   "outputs": [],
   "source": [
    "string = \"you must hapyy, 10, 'times' @,$# :- \" "
   ]
  },
  {
   "cell_type": "code",
   "execution_count": 16,
   "id": "5eb9ec0c",
   "metadata": {},
   "outputs": [
    {
     "name": "stdout",
     "output_type": "stream",
     "text": [
      "you must hapyy, 10, 'times' @,$# :-  <class 'str'>\n"
     ]
    }
   ],
   "source": [
    "print(string , type(string))"
   ]
  },
  {
   "cell_type": "code",
   "execution_count": 17,
   "id": "6341be3b",
   "metadata": {},
   "outputs": [],
   "source": [
    "lst = [\"my name\" ,\"xfda\", 12, 2, [1,24, 242,2],(24, 55,24,), \"@name\"]"
   ]
  },
  {
   "cell_type": "code",
   "execution_count": 18,
   "id": "5376a898",
   "metadata": {},
   "outputs": [
    {
     "name": "stdout",
     "output_type": "stream",
     "text": [
      "['my name', 'xfda', 12, 2, [1, 24, 242, 2], (24, 55, 24), '@name'] <class 'list'>\n"
     ]
    }
   ],
   "source": [
    "print(lst, type(lst))"
   ]
  },
  {
   "cell_type": "code",
   "execution_count": 19,
   "id": "ba2bd8d7",
   "metadata": {},
   "outputs": [
    {
     "name": "stdout",
     "output_type": "stream",
     "text": [
      "30 <class 'int'>\n"
     ]
    }
   ],
   "source": [
    "a = 10\n",
    "b = 20\n",
    "print(a+b, type(a+b))"
   ]
  },
  {
   "cell_type": "markdown",
   "id": "6b93a30f",
   "metadata": {},
   "source": [
    "Q 4.- What is an expression made up of? What do all expressions do?\n",
    "ANS- \n",
    "    - An expression are made up of = values, containers, and methametical operaters(operands) and method invoccation ex:- a = 2+3\n",
    "    - what expressions fo =  expressions are used to evaluate the values or represent the result on the screen ex:- result - 5"
   ]
  },
  {
   "cell_type": "markdown",
   "id": "94f0cc74",
   "metadata": {},
   "source": [
    "Q 5.- This assignment statements, like spam = 10. What is the difference between an\n",
    "expression and a statement?\n",
    "\n",
    "ANS:-\n",
    "        = Expression is made up of values, containers, mathematical operators and method invoccation and the statement is just like a command that a python interpreter executes like print()."
   ]
  },
  {
   "cell_type": "markdown",
   "id": "2badcc7c",
   "metadata": {},
   "source": [
    "Q 6.- After running the following code, what does the variable bacon contain?\n",
    "    bacon = 22\n",
    "    bacon = 1\n",
    " ANS:- after execution it gives 23"
   ]
  },
  {
   "cell_type": "code",
   "execution_count": 20,
   "id": "37647402",
   "metadata": {},
   "outputs": [
    {
     "data": {
      "text/plain": [
       "23"
      ]
     },
     "execution_count": 20,
     "metadata": {},
     "output_type": "execute_result"
    }
   ],
   "source": [
    "bacon = 22\n",
    "bacon +1"
   ]
  },
  {
   "cell_type": "markdown",
   "id": "edb7f6a2",
   "metadata": {},
   "source": [
    "q 7.- What should the values of the following two terms be?\n",
    "   'spam' + 'spamspam'\n",
    "    'spam'*3\n",
    " \n",
    " ANS:- above two term have the samemeaning"
   ]
  },
  {
   "cell_type": "code",
   "execution_count": 21,
   "id": "c4045596",
   "metadata": {},
   "outputs": [
    {
     "data": {
      "text/plain": [
       "'spamspamspam'"
      ]
     },
     "execution_count": 21,
     "metadata": {},
     "output_type": "execute_result"
    }
   ],
   "source": [
    "'spam'+ 'spamspam'"
   ]
  },
  {
   "cell_type": "code",
   "execution_count": 22,
   "id": "10a16a1f",
   "metadata": {},
   "outputs": [
    {
     "data": {
      "text/plain": [
       "'spamspamspam'"
      ]
     },
     "execution_count": 22,
     "metadata": {},
     "output_type": "execute_result"
    }
   ],
   "source": [
    "'spam'* 3"
   ]
  },
  {
   "cell_type": "markdown",
   "id": "3fa7fb05",
   "metadata": {},
   "source": [
    "Q 8.-  Why is eggs a valid variable name while 100 is invalid?\n",
    "\n",
    "ANS;- becouse we can't assign a variable name with numeric value that's way 100 is invalid after alphabet we can use the numeric therefore eggs a valid variable"
   ]
  },
  {
   "cell_type": "code",
   "execution_count": 24,
   "id": "4ffbd0a8",
   "metadata": {},
   "outputs": [
    {
     "data": {
      "text/plain": [
       "10"
      ]
     },
     "execution_count": 24,
     "metadata": {},
     "output_type": "execute_result"
    }
   ],
   "source": [
    "eggs = 10\n",
    "eggs"
   ]
  },
  {
   "cell_type": "code",
   "execution_count": 25,
   "id": "c960f4cb",
   "metadata": {},
   "outputs": [
    {
     "ename": "SyntaxError",
     "evalue": "cannot assign to literal (Temp/ipykernel_12280/2372652638.py, line 1)",
     "output_type": "error",
     "traceback": [
      "\u001b[1;36m  File \u001b[1;32m\"C:\\Users\\hp\\AppData\\Local\\Temp/ipykernel_12280/2372652638.py\"\u001b[1;36m, line \u001b[1;32m1\u001b[0m\n\u001b[1;33m    100 = \"smile\"\u001b[0m\n\u001b[1;37m    ^\u001b[0m\n\u001b[1;31mSyntaxError\u001b[0m\u001b[1;31m:\u001b[0m cannot assign to literal\n"
     ]
    }
   ],
   "source": [
    "100 = \"smile\"\n",
    "100"
   ]
  },
  {
   "cell_type": "markdown",
   "id": "96466fb6",
   "metadata": {},
   "source": [
    "Q 9.-  What three functions can be used to get the integer, floating-point number, or string version of a value?\n",
    "\n",
    "ANS:- \n",
    "      these three functions can be used -\n",
    "      str(), int(), float() \n",
    "      "
   ]
  },
  {
   "cell_type": "markdown",
   "id": "ce09f2a5",
   "metadata": {},
   "source": [
    "Q 10.- Why does this expression cause an error? How can you fix it?\n",
    "     'I have eaten' + 99 + 'burritos'\n",
    "\n",
    "ANS:- becouse 99 is an integer we cannot concatenated it with the string if we have to concatinate an integer with string so we need to do typecasting."
   ]
  },
  {
   "cell_type": "code",
   "execution_count": 28,
   "id": "c0482cf9",
   "metadata": {},
   "outputs": [
    {
     "ename": "TypeError",
     "evalue": "can only concatenate str (not \"int\") to str",
     "output_type": "error",
     "traceback": [
      "\u001b[1;31m---------------------------------------------------------------------------\u001b[0m",
      "\u001b[1;31mTypeError\u001b[0m                                 Traceback (most recent call last)",
      "\u001b[1;32m~\\AppData\\Local\\Temp/ipykernel_12280/207349434.py\u001b[0m in \u001b[0;36m<module>\u001b[1;34m\u001b[0m\n\u001b[1;32m----> 1\u001b[1;33m \u001b[0mprint\u001b[0m\u001b[1;33m(\u001b[0m\u001b[1;34m'I have eaten'\u001b[0m \u001b[1;33m+\u001b[0m \u001b[1;36m99\u001b[0m \u001b[1;33m+\u001b[0m \u001b[1;34m'burritos'\u001b[0m\u001b[1;33m)\u001b[0m\u001b[1;33m\u001b[0m\u001b[1;33m\u001b[0m\u001b[0m\n\u001b[0m",
      "\u001b[1;31mTypeError\u001b[0m: can only concatenate str (not \"int\") to str"
     ]
    }
   ],
   "source": [
    "print('I have eaten' + 99 + 'burritos')"
   ]
  },
  {
   "cell_type": "code",
   "execution_count": 44,
   "id": "cc0c3d7a",
   "metadata": {},
   "outputs": [
    {
     "ename": "TypeError",
     "evalue": "can only concatenate str (not \"int\") to str",
     "output_type": "error",
     "traceback": [
      "\u001b[1;31m---------------------------------------------------------------------------\u001b[0m",
      "\u001b[1;31mTypeError\u001b[0m                                 Traceback (most recent call last)",
      "\u001b[1;32m~\\AppData\\Local\\Temp/ipykernel_12280/3181315118.py\u001b[0m in \u001b[0;36m<module>\u001b[1;34m\u001b[0m\n\u001b[1;32m----> 1\u001b[1;33m \u001b[1;34m'I have eaten'\u001b[0m \u001b[1;33m+\u001b[0m \u001b[1;36m99\u001b[0m \u001b[1;33m+\u001b[0m \u001b[1;34m\"burritos\"\u001b[0m\u001b[1;33m\u001b[0m\u001b[1;33m\u001b[0m\u001b[0m\n\u001b[0m",
      "\u001b[1;31mTypeError\u001b[0m: can only concatenate str (not \"int\") to str"
     ]
    }
   ],
   "source": [
    "'I have eaten' + 99 + \"burritos\""
   ]
  },
  {
   "cell_type": "code",
   "execution_count": 47,
   "id": "6f7f7a97",
   "metadata": {},
   "outputs": [
    {
     "data": {
      "text/plain": [
       "'I have eaten 99 burritos'"
      ]
     },
     "execution_count": 47,
     "metadata": {},
     "output_type": "execute_result"
    }
   ],
   "source": [
    "'I have eaten ' + '99 '+ \"burritos\" # in quotetion every value become string"
   ]
  },
  {
   "cell_type": "code",
   "execution_count": null,
   "id": "73841783",
   "metadata": {},
   "outputs": [],
   "source": []
  }
 ],
 "metadata": {
  "kernelspec": {
   "display_name": "Python 3 (ipykernel)",
   "language": "python",
   "name": "python3"
  },
  "language_info": {
   "codemirror_mode": {
    "name": "ipython",
    "version": 3
   },
   "file_extension": ".py",
   "mimetype": "text/x-python",
   "name": "python",
   "nbconvert_exporter": "python",
   "pygments_lexer": "ipython3",
   "version": "3.9.7"
  }
 },
 "nbformat": 4,
 "nbformat_minor": 5
}
